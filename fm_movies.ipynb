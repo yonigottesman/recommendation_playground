{
 "cells": [
  {
   "cell_type": "code",
   "execution_count": 1,
   "metadata": {
    "colab": {
     "base_uri": "https://localhost:8080/",
     "height": 312
    },
    "colab_type": "code",
    "id": "_MxbroHe6bIm",
    "outputId": "74a6815c-88aa-42d4-ea32-efb37fe8028b"
   },
   "outputs": [
    {
     "name": "stdout",
     "output_type": "stream",
     "text": [
      "--2020-03-03 09:38:48--  http://files.grouplens.org/datasets/movielens/ml-1m.zip\n",
      "Resolving files.grouplens.org (files.grouplens.org)... 128.101.65.152\n",
      "Connecting to files.grouplens.org (files.grouplens.org)|128.101.65.152|:80... connected.\n",
      "HTTP request sent, awaiting response... 200 OK\n",
      "Length: 5917549 (5.6M) [application/zip]\n",
      "Saving to: ‘ml-1m.zip’\n",
      "\n",
      "ml-1m.zip           100%[===================>]   5.64M   678KB/s    in 17s     \n",
      "\n",
      "2020-03-03 09:39:06 (333 KB/s) - ‘ml-1m.zip’ saved [5917549/5917549]\n",
      "\n",
      "Archive:  ml-1m.zip\n",
      "   creating: ml-1m/\n",
      "  inflating: ml-1m/movies.dat        \n",
      "  inflating: ml-1m/ratings.dat       \n",
      "  inflating: ml-1m/README            \n",
      "  inflating: ml-1m/users.dat         \n"
     ]
    }
   ],
   "source": [
    "!wget http://files.grouplens.org/datasets/movielens/ml-1m.zip\n",
    "!unzip ml-1m.zip"
   ]
  },
  {
   "cell_type": "code",
   "execution_count": 1,
   "metadata": {
    "colab": {},
    "colab_type": "code",
    "id": "8E1RxEbJ66WP"
   },
   "outputs": [],
   "source": [
    "import pandas as pd\n",
    "import torch as torch\n",
    "import torch.utils.data as data\n",
    "import torch.nn as nn\n",
    "import torch.optim as optim\n",
    "import time\n",
    "import numpy as np\n",
    "from sklearn.manifold import TSNE\n",
    "\n",
    "import math\n",
    "from torch.utils.data import Dataset\n",
    "import itertools\n",
    "import seaborn as sns\n",
    "import torch.nn.functional as F\n",
    "import matplotlib.pyplot as plt\n",
    "from tabulate import tabulate\n",
    "from elasticsearch import Elasticsearch, helpers"
   ]
  },
  {
   "cell_type": "code",
   "execution_count": 2,
   "metadata": {
    "colab": {
     "base_uri": "https://localhost:8080/",
     "height": 34
    },
    "colab_type": "code",
    "id": "X_R02ii268lQ",
    "outputId": "783e0389-b18d-475b-cce6-86e0670b4dc3"
   },
   "outputs": [
    {
     "data": {
      "text/plain": [
       "device(type='cpu')"
      ]
     },
     "execution_count": 2,
     "metadata": {},
     "output_type": "execute_result"
    }
   ],
   "source": [
    "device = torch.device(\"cuda\" if torch.cuda.is_available() else \"cpu\")\n",
    "device"
   ]
  },
  {
   "cell_type": "code",
   "execution_count": 3,
   "metadata": {
    "colab": {},
    "colab_type": "code",
    "id": "D3cGVzC9DCZm"
   },
   "outputs": [],
   "source": [
    "movies_df = pd.read_csv('ml-1m/movies.dat', sep='::',\n",
    "                     names=['movieId','title','genres'],\n",
    "                     encoding='latin-1',engine='python')\n",
    "movies_df['movieId_index'] = movies_df['movieId'].astype('category').cat.codes"
   ]
  },
  {
   "cell_type": "code",
   "execution_count": 4,
   "metadata": {
    "colab": {
     "base_uri": "https://localhost:8080/",
     "height": 175
    },
    "colab_type": "code",
    "id": "8YW4yj-83TlF",
    "outputId": "e99ed144-4f52-45f7-be2c-b32e4cd6ea86"
   },
   "outputs": [
    {
     "data": {
      "text/html": [
       "<div>\n",
       "<style scoped>\n",
       "    .dataframe tbody tr th:only-of-type {\n",
       "        vertical-align: middle;\n",
       "    }\n",
       "\n",
       "    .dataframe tbody tr th {\n",
       "        vertical-align: top;\n",
       "    }\n",
       "\n",
       "    .dataframe thead th {\n",
       "        text-align: right;\n",
       "    }\n",
       "</style>\n",
       "<table border=\"1\" class=\"dataframe\">\n",
       "  <thead>\n",
       "    <tr style=\"text-align: right;\">\n",
       "      <th></th>\n",
       "      <th>movieId</th>\n",
       "      <th>title</th>\n",
       "      <th>genres</th>\n",
       "      <th>movieId_index</th>\n",
       "    </tr>\n",
       "  </thead>\n",
       "  <tbody>\n",
       "    <tr>\n",
       "      <th>0</th>\n",
       "      <td>1</td>\n",
       "      <td>Toy Story (1995)</td>\n",
       "      <td>Animation|Children's|Comedy</td>\n",
       "      <td>0</td>\n",
       "    </tr>\n",
       "    <tr>\n",
       "      <th>1</th>\n",
       "      <td>2</td>\n",
       "      <td>Jumanji (1995)</td>\n",
       "      <td>Adventure|Children's|Fantasy</td>\n",
       "      <td>1</td>\n",
       "    </tr>\n",
       "    <tr>\n",
       "      <th>2</th>\n",
       "      <td>3</td>\n",
       "      <td>Grumpier Old Men (1995)</td>\n",
       "      <td>Comedy|Romance</td>\n",
       "      <td>2</td>\n",
       "    </tr>\n",
       "    <tr>\n",
       "      <th>3</th>\n",
       "      <td>4</td>\n",
       "      <td>Waiting to Exhale (1995)</td>\n",
       "      <td>Comedy|Drama</td>\n",
       "      <td>3</td>\n",
       "    </tr>\n",
       "  </tbody>\n",
       "</table>\n",
       "</div>"
      ],
      "text/plain": [
       "   movieId                     title                        genres  \\\n",
       "0        1          Toy Story (1995)   Animation|Children's|Comedy   \n",
       "1        2            Jumanji (1995)  Adventure|Children's|Fantasy   \n",
       "2        3   Grumpier Old Men (1995)                Comedy|Romance   \n",
       "3        4  Waiting to Exhale (1995)                  Comedy|Drama   \n",
       "\n",
       "   movieId_index  \n",
       "0              0  \n",
       "1              1  \n",
       "2              2  \n",
       "3              3  "
      ]
     },
     "execution_count": 4,
     "metadata": {},
     "output_type": "execute_result"
    }
   ],
   "source": [
    "movies_df.head(4)"
   ]
  },
  {
   "cell_type": "code",
   "execution_count": 5,
   "metadata": {
    "colab": {},
    "colab_type": "code",
    "id": "EGPJNuxpCgpD"
   },
   "outputs": [],
   "source": [
    "users_df = pd.read_csv('ml-1m/users.dat',sep='::',\n",
    "                       header=None,\n",
    "                       names=['userId', 'gender' ,'age','occupation', 'zipcode'],\n",
    "                       engine='python')\n",
    "users_df['gender_index'] = users_df['gender'].astype('category').cat.codes\n",
    "users_df['age_index'] = users_df['age'].astype('category').cat.codes\n",
    "users_df['occupation_index'] = users_df['occupation'].astype('category').cat.codes\n",
    "users_df['userId_index'] = users_df['userId'].astype('category').cat.codes"
   ]
  },
  {
   "cell_type": "code",
   "execution_count": 6,
   "metadata": {
    "colab": {
     "base_uri": "https://localhost:8080/",
     "height": 206
    },
    "colab_type": "code",
    "id": "zc3UwoGQ3kGu",
    "outputId": "0fd316a0-1ed9-4967-de71-0d8e00022cc4"
   },
   "outputs": [
    {
     "data": {
      "text/html": [
       "<div>\n",
       "<style scoped>\n",
       "    .dataframe tbody tr th:only-of-type {\n",
       "        vertical-align: middle;\n",
       "    }\n",
       "\n",
       "    .dataframe tbody tr th {\n",
       "        vertical-align: top;\n",
       "    }\n",
       "\n",
       "    .dataframe thead th {\n",
       "        text-align: right;\n",
       "    }\n",
       "</style>\n",
       "<table border=\"1\" class=\"dataframe\">\n",
       "  <thead>\n",
       "    <tr style=\"text-align: right;\">\n",
       "      <th></th>\n",
       "      <th>userId</th>\n",
       "      <th>gender</th>\n",
       "      <th>age</th>\n",
       "      <th>occupation</th>\n",
       "      <th>zipcode</th>\n",
       "      <th>gender_index</th>\n",
       "      <th>age_index</th>\n",
       "      <th>occupation_index</th>\n",
       "      <th>userId_index</th>\n",
       "    </tr>\n",
       "  </thead>\n",
       "  <tbody>\n",
       "    <tr>\n",
       "      <th>0</th>\n",
       "      <td>1</td>\n",
       "      <td>F</td>\n",
       "      <td>1</td>\n",
       "      <td>10</td>\n",
       "      <td>48067</td>\n",
       "      <td>0</td>\n",
       "      <td>0</td>\n",
       "      <td>10</td>\n",
       "      <td>0</td>\n",
       "    </tr>\n",
       "    <tr>\n",
       "      <th>1</th>\n",
       "      <td>2</td>\n",
       "      <td>M</td>\n",
       "      <td>56</td>\n",
       "      <td>16</td>\n",
       "      <td>70072</td>\n",
       "      <td>1</td>\n",
       "      <td>6</td>\n",
       "      <td>16</td>\n",
       "      <td>1</td>\n",
       "    </tr>\n",
       "    <tr>\n",
       "      <th>2</th>\n",
       "      <td>3</td>\n",
       "      <td>M</td>\n",
       "      <td>25</td>\n",
       "      <td>15</td>\n",
       "      <td>55117</td>\n",
       "      <td>1</td>\n",
       "      <td>2</td>\n",
       "      <td>15</td>\n",
       "      <td>2</td>\n",
       "    </tr>\n",
       "    <tr>\n",
       "      <th>3</th>\n",
       "      <td>4</td>\n",
       "      <td>M</td>\n",
       "      <td>45</td>\n",
       "      <td>7</td>\n",
       "      <td>02460</td>\n",
       "      <td>1</td>\n",
       "      <td>4</td>\n",
       "      <td>7</td>\n",
       "      <td>3</td>\n",
       "    </tr>\n",
       "    <tr>\n",
       "      <th>4</th>\n",
       "      <td>5</td>\n",
       "      <td>M</td>\n",
       "      <td>25</td>\n",
       "      <td>20</td>\n",
       "      <td>55455</td>\n",
       "      <td>1</td>\n",
       "      <td>2</td>\n",
       "      <td>20</td>\n",
       "      <td>4</td>\n",
       "    </tr>\n",
       "  </tbody>\n",
       "</table>\n",
       "</div>"
      ],
      "text/plain": [
       "   userId gender  age  occupation zipcode  gender_index  age_index  \\\n",
       "0       1      F    1          10   48067             0          0   \n",
       "1       2      M   56          16   70072             1          6   \n",
       "2       3      M   25          15   55117             1          2   \n",
       "3       4      M   45           7   02460             1          4   \n",
       "4       5      M   25          20   55455             1          2   \n",
       "\n",
       "   occupation_index  userId_index  \n",
       "0                10             0  \n",
       "1                16             1  \n",
       "2                15             2  \n",
       "3                 7             3  \n",
       "4                20             4  "
      ]
     },
     "execution_count": 6,
     "metadata": {},
     "output_type": "execute_result"
    }
   ],
   "source": [
    "users_df.head(5)"
   ]
  },
  {
   "cell_type": "code",
   "execution_count": 7,
   "metadata": {
    "colab": {},
    "colab_type": "code",
    "id": "U_qrLcb3DV5h"
   },
   "outputs": [],
   "source": [
    "ratings=pd.read_csv('ml-1m/ratings.dat',sep='::',\n",
    "                    names=['userId','movieId','rating','time'],engine='python')\n",
    "ratings=ratings.join(movies_df.set_index('movieId'),on='movieId')\n",
    "ratings=ratings.join(users_df.set_index('userId'), on='userId')"
   ]
  },
  {
   "cell_type": "code",
   "execution_count": 8,
   "metadata": {
    "colab": {
     "base_uri": "https://localhost:8080/",
     "height": 386
    },
    "colab_type": "code",
    "id": "GrJH_H9R7ArT",
    "outputId": "90d931a5-0d78-427b-b6e4-0b6edd212333"
   },
   "outputs": [
    {
     "data": {
      "text/html": [
       "<div>\n",
       "<style scoped>\n",
       "    .dataframe tbody tr th:only-of-type {\n",
       "        vertical-align: middle;\n",
       "    }\n",
       "\n",
       "    .dataframe tbody tr th {\n",
       "        vertical-align: top;\n",
       "    }\n",
       "\n",
       "    .dataframe thead th {\n",
       "        text-align: right;\n",
       "    }\n",
       "</style>\n",
       "<table border=\"1\" class=\"dataframe\">\n",
       "  <thead>\n",
       "    <tr style=\"text-align: right;\">\n",
       "      <th></th>\n",
       "      <th>userId</th>\n",
       "      <th>movieId</th>\n",
       "      <th>rating</th>\n",
       "      <th>time</th>\n",
       "      <th>title</th>\n",
       "      <th>genres</th>\n",
       "      <th>movieId_index</th>\n",
       "      <th>gender</th>\n",
       "      <th>age</th>\n",
       "      <th>occupation</th>\n",
       "      <th>zipcode</th>\n",
       "      <th>gender_index</th>\n",
       "      <th>age_index</th>\n",
       "      <th>occupation_index</th>\n",
       "      <th>userId_index</th>\n",
       "    </tr>\n",
       "  </thead>\n",
       "  <tbody>\n",
       "    <tr>\n",
       "      <th>0</th>\n",
       "      <td>1</td>\n",
       "      <td>1193</td>\n",
       "      <td>5</td>\n",
       "      <td>978300760</td>\n",
       "      <td>One Flew Over the Cuckoo's Nest (1975)</td>\n",
       "      <td>Drama</td>\n",
       "      <td>1176</td>\n",
       "      <td>F</td>\n",
       "      <td>1</td>\n",
       "      <td>10</td>\n",
       "      <td>48067</td>\n",
       "      <td>0</td>\n",
       "      <td>0</td>\n",
       "      <td>10</td>\n",
       "      <td>0</td>\n",
       "    </tr>\n",
       "    <tr>\n",
       "      <th>1</th>\n",
       "      <td>1</td>\n",
       "      <td>661</td>\n",
       "      <td>3</td>\n",
       "      <td>978302109</td>\n",
       "      <td>James and the Giant Peach (1996)</td>\n",
       "      <td>Animation|Children's|Musical</td>\n",
       "      <td>655</td>\n",
       "      <td>F</td>\n",
       "      <td>1</td>\n",
       "      <td>10</td>\n",
       "      <td>48067</td>\n",
       "      <td>0</td>\n",
       "      <td>0</td>\n",
       "      <td>10</td>\n",
       "      <td>0</td>\n",
       "    </tr>\n",
       "    <tr>\n",
       "      <th>2</th>\n",
       "      <td>1</td>\n",
       "      <td>914</td>\n",
       "      <td>3</td>\n",
       "      <td>978301968</td>\n",
       "      <td>My Fair Lady (1964)</td>\n",
       "      <td>Musical|Romance</td>\n",
       "      <td>902</td>\n",
       "      <td>F</td>\n",
       "      <td>1</td>\n",
       "      <td>10</td>\n",
       "      <td>48067</td>\n",
       "      <td>0</td>\n",
       "      <td>0</td>\n",
       "      <td>10</td>\n",
       "      <td>0</td>\n",
       "    </tr>\n",
       "    <tr>\n",
       "      <th>3</th>\n",
       "      <td>1</td>\n",
       "      <td>3408</td>\n",
       "      <td>4</td>\n",
       "      <td>978300275</td>\n",
       "      <td>Erin Brockovich (2000)</td>\n",
       "      <td>Drama</td>\n",
       "      <td>3339</td>\n",
       "      <td>F</td>\n",
       "      <td>1</td>\n",
       "      <td>10</td>\n",
       "      <td>48067</td>\n",
       "      <td>0</td>\n",
       "      <td>0</td>\n",
       "      <td>10</td>\n",
       "      <td>0</td>\n",
       "    </tr>\n",
       "  </tbody>\n",
       "</table>\n",
       "</div>"
      ],
      "text/plain": [
       "   userId  movieId  rating       time                                   title  \\\n",
       "0       1     1193       5  978300760  One Flew Over the Cuckoo's Nest (1975)   \n",
       "1       1      661       3  978302109        James and the Giant Peach (1996)   \n",
       "2       1      914       3  978301968                     My Fair Lady (1964)   \n",
       "3       1     3408       4  978300275                  Erin Brockovich (2000)   \n",
       "\n",
       "                         genres  movieId_index gender  age  occupation  \\\n",
       "0                         Drama           1176      F    1          10   \n",
       "1  Animation|Children's|Musical            655      F    1          10   \n",
       "2               Musical|Romance            902      F    1          10   \n",
       "3                         Drama           3339      F    1          10   \n",
       "\n",
       "  zipcode  gender_index  age_index  occupation_index  userId_index  \n",
       "0   48067             0          0                10             0  \n",
       "1   48067             0          0                10             0  \n",
       "2   48067             0          0                10             0  \n",
       "3   48067             0          0                10             0  "
      ]
     },
     "execution_count": 8,
     "metadata": {},
     "output_type": "execute_result"
    }
   ],
   "source": [
    "ratings.head(4)"
   ]
  },
  {
   "cell_type": "code",
   "execution_count": 9,
   "metadata": {
    "colab": {},
    "colab_type": "code",
    "id": "S5mrE20Km0jL"
   },
   "outputs": [],
   "source": [
    "feature_columns = ['userId_index','movieId_index','age_index','gender_index','occupation_index']"
   ]
  },
  {
   "cell_type": "code",
   "execution_count": 10,
   "metadata": {
    "colab": {},
    "colab_type": "code",
    "id": "nBS3zsTb3-VQ"
   },
   "outputs": [],
   "source": [
    "# This is the width of each feature (number of values)\n",
    "features_sizes = {\n",
    "    'userId_index':len(ratings['userId_index'].unique()),\n",
    "    'movieId_index':len(ratings['movieId_index'].unique()),\n",
    "    'age_index':len(ratings['age_index'].unique()),\n",
    "    'gender_index':len(ratings['gender_index'].unique()),\n",
    "    'occupation_index':len(ratings['occupation_index'].unique()),\n",
    "}\n",
    "\n",
    "# calculate offsets.\n",
    "# Each feature starts from the end of the last one.\n",
    "\n",
    "next_offset = 0\n",
    "features_offsets={}\n",
    "for k,v in features_sizes.items():\n",
    "    features_offsets[k] = next_offset\n",
    "    next_offset += v"
   ]
  },
  {
   "cell_type": "code",
   "execution_count": 11,
   "metadata": {
    "colab": {},
    "colab_type": "code",
    "id": "MvA1myT1Dylx"
   },
   "outputs": [],
   "source": [
    "# map all column indices to start from correct offset\n",
    "for column in feature_columns:\n",
    "    ratings[column] = ratings[column].apply(lambda c: c + features_offsets[column])   "
   ]
  },
  {
   "cell_type": "code",
   "execution_count": 12,
   "metadata": {
    "colab": {
     "base_uri": "https://localhost:8080/",
     "height": 206
    },
    "colab_type": "code",
    "id": "KV9FE3aTEBCX",
    "outputId": "4901dd8a-8380-4135-a290-b1672f707692"
   },
   "outputs": [
    {
     "data": {
      "text/html": [
       "<div>\n",
       "<style scoped>\n",
       "    .dataframe tbody tr th:only-of-type {\n",
       "        vertical-align: middle;\n",
       "    }\n",
       "\n",
       "    .dataframe tbody tr th {\n",
       "        vertical-align: top;\n",
       "    }\n",
       "\n",
       "    .dataframe thead th {\n",
       "        text-align: right;\n",
       "    }\n",
       "</style>\n",
       "<table border=\"1\" class=\"dataframe\">\n",
       "  <thead>\n",
       "    <tr style=\"text-align: right;\">\n",
       "      <th></th>\n",
       "      <th>userId_index</th>\n",
       "      <th>movieId_index</th>\n",
       "      <th>age_index</th>\n",
       "      <th>gender_index</th>\n",
       "      <th>occupation_index</th>\n",
       "      <th>rating</th>\n",
       "    </tr>\n",
       "  </thead>\n",
       "  <tbody>\n",
       "    <tr>\n",
       "      <th>0</th>\n",
       "      <td>0</td>\n",
       "      <td>7216</td>\n",
       "      <td>9746</td>\n",
       "      <td>9753</td>\n",
       "      <td>9765</td>\n",
       "      <td>5</td>\n",
       "    </tr>\n",
       "    <tr>\n",
       "      <th>1</th>\n",
       "      <td>0</td>\n",
       "      <td>6695</td>\n",
       "      <td>9746</td>\n",
       "      <td>9753</td>\n",
       "      <td>9765</td>\n",
       "      <td>3</td>\n",
       "    </tr>\n",
       "    <tr>\n",
       "      <th>2</th>\n",
       "      <td>0</td>\n",
       "      <td>6942</td>\n",
       "      <td>9746</td>\n",
       "      <td>9753</td>\n",
       "      <td>9765</td>\n",
       "      <td>3</td>\n",
       "    </tr>\n",
       "    <tr>\n",
       "      <th>3</th>\n",
       "      <td>0</td>\n",
       "      <td>9379</td>\n",
       "      <td>9746</td>\n",
       "      <td>9753</td>\n",
       "      <td>9765</td>\n",
       "      <td>4</td>\n",
       "    </tr>\n",
       "    <tr>\n",
       "      <th>4</th>\n",
       "      <td>0</td>\n",
       "      <td>8326</td>\n",
       "      <td>9746</td>\n",
       "      <td>9753</td>\n",
       "      <td>9765</td>\n",
       "      <td>5</td>\n",
       "    </tr>\n",
       "  </tbody>\n",
       "</table>\n",
       "</div>"
      ],
      "text/plain": [
       "   userId_index  movieId_index  age_index  gender_index  occupation_index  \\\n",
       "0             0           7216       9746          9753              9765   \n",
       "1             0           6695       9746          9753              9765   \n",
       "2             0           6942       9746          9753              9765   \n",
       "3             0           9379       9746          9753              9765   \n",
       "4             0           8326       9746          9753              9765   \n",
       "\n",
       "   rating  \n",
       "0       5  \n",
       "1       3  \n",
       "2       3  \n",
       "3       4  \n",
       "4       5  "
      ]
     },
     "execution_count": 12,
     "metadata": {},
     "output_type": "execute_result"
    }
   ],
   "source": [
    "#print(tabulate(ratings[[*feature_columns,'rating']].head(4),headers=ratings[[*feature_columns,'rating']].columns,tablefmt=\"github\"))\n",
    "ratings[[*feature_columns,'rating']].head(5)"
   ]
  },
  {
   "cell_type": "code",
   "execution_count": 13,
   "metadata": {
    "colab": {},
    "colab_type": "code",
    "id": "NLpHQVEg7KWc"
   },
   "outputs": [],
   "source": [
    "data_x = torch.tensor(ratings[feature_columns].values)\n",
    "data_y = torch.tensor(ratings['rating'].values).float()\n",
    "dataset = data.TensorDataset(data_x, data_y)"
   ]
  },
  {
   "cell_type": "code",
   "execution_count": 14,
   "metadata": {
    "colab": {},
    "colab_type": "code",
    "id": "IoxK5qOW7L-1"
   },
   "outputs": [],
   "source": [
    "bs=1024\n",
    "train_n = int(len(dataset)*0.9)\n",
    "valid_n = len(dataset) - train_n\n",
    "splits = [train_n,valid_n]\n",
    "assert sum(splits) == len(dataset)\n",
    "trainset,devset = torch.utils.data.random_split(dataset,splits)\n",
    "train_dataloader = data.DataLoader(trainset,batch_size=bs,shuffle=True)\n",
    "dev_dataloader = data.DataLoader(devset,batch_size=bs,shuffle=True)"
   ]
  },
  {
   "cell_type": "code",
   "execution_count": 15,
   "metadata": {
    "colab": {},
    "colab_type": "code",
    "id": "G3JD1ZND7NxP"
   },
   "outputs": [],
   "source": [
    "# copied from fastai: \n",
    "def trunc_normal_(x, mean=0., std=1.):\n",
    "    \"Truncated normal initialization.\"\n",
    "    # From https://discuss.pytorch.org/t/implementing-truncated-normal-initializer/4778/12\n",
    "    return x.normal_().fmod_(2).mul_(std).add_(mean)"
   ]
  },
  {
   "cell_type": "code",
   "execution_count": 16,
   "metadata": {
    "colab": {},
    "colab_type": "code",
    "id": "pVZqihbw7VBH"
   },
   "outputs": [],
   "source": [
    "class FMModel(nn.Module):\n",
    "    def __init__(self, n, k):\n",
    "        super().__init__()\n",
    "\n",
    "        self.w0 = nn.Parameter(torch.zeros(1))\n",
    "        self.bias = nn.Embedding(n, 1)\n",
    "        self.embeddings = nn.Embedding(n, k)\n",
    "\n",
    "        # See https://arxiv.org/abs/1711.09160\n",
    "        with torch.no_grad(): trunc_normal_(self.embeddings.weight, std=0.01)\n",
    "        with torch.no_grad(): trunc_normal_(self.bias.weight, std=0.01)\n",
    "\n",
    "    def forward(self, X):\n",
    "        emb = self.embeddings(X)\n",
    "        # calculate the interactions in complexity of O(nk) see lemma 3.1 from paper\n",
    "        pow_of_sum = emb.sum(dim=1).pow(2)\n",
    "        sum_of_pow = emb.pow(2).sum(dim=1)\n",
    "        pairwise = (pow_of_sum-sum_of_pow).sum(1)*0.5\n",
    "        bias = self.bias(X).squeeze().sum(1)\n",
    "        return torch.sigmoid(self.w0 + bias + pairwise)*5.5"
   ]
  },
  {
   "cell_type": "code",
   "execution_count": 17,
   "metadata": {
    "colab": {},
    "colab_type": "code",
    "id": "B-sCgZnO0NqY"
   },
   "outputs": [],
   "source": [
    "# fit/test functions\n",
    "def fit(iterator, model, optimizer, criterion):\n",
    "    train_loss = 0\n",
    "    model.train()\n",
    "    for x,y in iterator:\n",
    "        optimizer.zero_grad()\n",
    "        y_hat = model(x.to(device))\n",
    "        loss = criterion(y_hat, y.to(device))\n",
    "        train_loss += loss.item()*x.shape[0]\n",
    "        loss.backward()\n",
    "        optimizer.step()\n",
    "    return train_loss / len(iterator.dataset)\n",
    "\n",
    "def test(iterator, model, criterion):\n",
    "    train_loss = 0\n",
    "    model.eval()\n",
    "    for x,y in iterator:                    \n",
    "        with torch.no_grad():\n",
    "            y_hat = model(x.to(device))\n",
    "        loss = criterion(y_hat, y.to(device))\n",
    "        train_loss += loss.item()*x.shape[0]\n",
    "    return train_loss / len(iterator.dataset)"
   ]
  },
  {
   "cell_type": "code",
   "execution_count": 18,
   "metadata": {
    "colab": {},
    "colab_type": "code",
    "id": "-K0hBpn3032q"
   },
   "outputs": [],
   "source": [
    "def train_n_epochs(model, n, optimizer,scheduler):\n",
    "    criterion = nn.MSELoss().to(device)\n",
    "    for epoch in range(n):\n",
    "        start_time = time.time()\n",
    "        train_loss = fit(train_dataloader, model, optimizer, criterion)\n",
    "        valid_loss = test(dev_dataloader, model, criterion)\n",
    "        scheduler.step()\n",
    "        secs = int(time.time() - start_time)\n",
    "        print(f'epoch {epoch}. time: {secs}[s]')\n",
    "        print(f'\\ttrain rmse: {(math.sqrt(train_loss)):.4f}')\n",
    "        print(f'\\tvalidation rmse: {(math.sqrt(valid_loss)):.4f}')\n"
   ]
  },
  {
   "cell_type": "code",
   "execution_count": 19,
   "metadata": {
    "colab": {
     "base_uri": "https://localhost:8080/",
     "height": 538
    },
    "colab_type": "code",
    "id": "OxAfaaueMsnU",
    "outputId": "01378ad8-0471-4cdf-f08e-4596b40561d2"
   },
   "outputs": [
    {
     "name": "stdout",
     "output_type": "stream",
     "text": [
      "epoch 0. time: 49[s]\n",
      "\ttrain rmse: 0.9427\n",
      "\tvalidation rmse: 0.9116\n",
      "epoch 1. time: 50[s]\n",
      "\ttrain rmse: 0.8991\n",
      "\tvalidation rmse: 0.8967\n",
      "epoch 2. time: 50[s]\n",
      "\ttrain rmse: 0.8766\n",
      "\tvalidation rmse: 0.8816\n",
      "epoch 3. time: 55[s]\n",
      "\ttrain rmse: 0.8525\n",
      "\tvalidation rmse: 0.8710\n",
      "epoch 4. time: 54[s]\n",
      "\ttrain rmse: 0.8288\n",
      "\tvalidation rmse: 0.8648\n",
      "epoch 5. time: 54[s]\n",
      "\ttrain rmse: 0.8037\n",
      "\tvalidation rmse: 0.8603\n",
      "epoch 6. time: 52[s]\n",
      "\ttrain rmse: 0.7765\n",
      "\tvalidation rmse: 0.8572\n",
      "epoch 7. time: 50[s]\n",
      "\ttrain rmse: 0.7326\n",
      "\tvalidation rmse: 0.8540\n",
      "epoch 8. time: 50[s]\n",
      "\ttrain rmse: 0.7268\n",
      "\tvalidation rmse: 0.8535\n",
      "epoch 9. time: 54[s]\n",
      "\ttrain rmse: 0.7224\n",
      "\tvalidation rmse: 0.8535\n"
     ]
    }
   ],
   "source": [
    "model = FMModel(data_x.max()+1, 120).to(device)\n",
    "wd=1e-5\n",
    "lr=0.001\n",
    "epochs=10\n",
    "optimizer = optim.Adam(model.parameters(), lr=lr, weight_decay=wd)\n",
    "scheduler = optim.lr_scheduler.MultiStepLR(optimizer, milestones=[7], gamma=0.1)\n",
    "criterion = nn.MSELoss().to(device)\n",
    "for epoch in range(epochs):\n",
    "    start_time = time.time()\n",
    "    train_loss = fit(train_dataloader, model, optimizer, criterion)\n",
    "    valid_loss = test(dev_dataloader, model, criterion)\n",
    "    scheduler.step()\n",
    "    secs = int(time.time() - start_time)\n",
    "    print(f'epoch {epoch}. time: {secs}[s]')\n",
    "    print(f'\\ttrain rmse: {(math.sqrt(train_loss)):.4f}')\n",
    "    print(f'\\tvalidation rmse: {(math.sqrt(valid_loss)):.4f}')"
   ]
  },
  {
   "cell_type": "markdown",
   "metadata": {
    "colab_type": "text",
    "id": "mmL4i9GZhzsg"
   },
   "source": [
    "## Understand Embeddings"
   ]
  },
  {
   "cell_type": "code",
   "execution_count": 54,
   "metadata": {},
   "outputs": [],
   "source": [
    "movies = ratings.drop_duplicates('movieId_index').copy()\n",
    "movie_embeddings = model.embeddings(torch.tensor(movies['movieId_index'].values,device=device).long())\n",
    "movies['embedding'] = movie_embeddings.tolist()\n",
    "movie_biases = model.bias(torch.tensor(movies['movieId_index'].values,device=device).long())\n",
    "movies['bias'] = movie_biases.cpu().detach().numpy()"
   ]
  },
  {
   "cell_type": "code",
   "execution_count": 21,
   "metadata": {},
   "outputs": [
    {
     "data": {
      "text/html": [
       "<div>\n",
       "<style scoped>\n",
       "    .dataframe tbody tr th:only-of-type {\n",
       "        vertical-align: middle;\n",
       "    }\n",
       "\n",
       "    .dataframe tbody tr th {\n",
       "        vertical-align: top;\n",
       "    }\n",
       "\n",
       "    .dataframe thead th {\n",
       "        text-align: right;\n",
       "    }\n",
       "</style>\n",
       "<table border=\"1\" class=\"dataframe\">\n",
       "  <thead>\n",
       "    <tr style=\"text-align: right;\">\n",
       "      <th></th>\n",
       "      <th>title</th>\n",
       "      <th>movieId_index</th>\n",
       "      <th>embedding</th>\n",
       "      <th>bias</th>\n",
       "    </tr>\n",
       "  </thead>\n",
       "  <tbody>\n",
       "    <tr>\n",
       "      <th>0</th>\n",
       "      <td>One Flew Over the Cuckoo's Nest (1975)</td>\n",
       "      <td>7216</td>\n",
       "      <td>[0.28399068117141724, 0.27064165472984314, 0.3...</td>\n",
       "      <td>0.296528</td>\n",
       "    </tr>\n",
       "    <tr>\n",
       "      <th>1</th>\n",
       "      <td>James and the Giant Peach (1996)</td>\n",
       "      <td>6695</td>\n",
       "      <td>[0.147650808095932, 0.043052155524492264, 0.05...</td>\n",
       "      <td>-0.052868</td>\n",
       "    </tr>\n",
       "    <tr>\n",
       "      <th>2</th>\n",
       "      <td>My Fair Lady (1964)</td>\n",
       "      <td>6942</td>\n",
       "      <td>[0.17243516445159912, -0.05406080558896065, 0....</td>\n",
       "      <td>0.093793</td>\n",
       "    </tr>\n",
       "    <tr>\n",
       "      <th>3</th>\n",
       "      <td>Erin Brockovich (2000)</td>\n",
       "      <td>9379</td>\n",
       "      <td>[0.07425906509160995, -0.08210873603820801, 0....</td>\n",
       "      <td>0.204388</td>\n",
       "    </tr>\n",
       "    <tr>\n",
       "      <th>4</th>\n",
       "      <td>Bug's Life, A (1998)</td>\n",
       "      <td>8326</td>\n",
       "      <td>[-0.0025251160841435194, -0.27461206912994385,...</td>\n",
       "      <td>0.133541</td>\n",
       "    </tr>\n",
       "    <tr>\n",
       "      <th>...</th>\n",
       "      <td>...</td>\n",
       "      <td>...</td>\n",
       "      <td>...</td>\n",
       "      <td>...</td>\n",
       "    </tr>\n",
       "    <tr>\n",
       "      <th>919876</th>\n",
       "      <td>Modulations (1998)</td>\n",
       "      <td>8169</td>\n",
       "      <td>[0.021013814955949783, -0.017801446840167046, ...</td>\n",
       "      <td>0.089735</td>\n",
       "    </tr>\n",
       "    <tr>\n",
       "      <th>940262</th>\n",
       "      <td>Broken Vessels (1998)</td>\n",
       "      <td>8674</td>\n",
       "      <td>[-0.008717681281268597, -0.0037067122757434845...</td>\n",
       "      <td>-0.060727</td>\n",
       "    </tr>\n",
       "    <tr>\n",
       "      <th>957826</th>\n",
       "      <td>White Boys (1999)</td>\n",
       "      <td>8816</td>\n",
       "      <td>[-0.06269466131925583, 0.011752610094845295, 0...</td>\n",
       "      <td>-0.133646</td>\n",
       "    </tr>\n",
       "    <tr>\n",
       "      <th>970914</th>\n",
       "      <td>One Little Indian (1973)</td>\n",
       "      <td>9578</td>\n",
       "      <td>[0.023901021108031273, -0.0074755046516656876,...</td>\n",
       "      <td>0.091031</td>\n",
       "    </tr>\n",
       "    <tr>\n",
       "      <th>983062</th>\n",
       "      <td>Five Wives, Three Secretaries and Me (1998)</td>\n",
       "      <td>8880</td>\n",
       "      <td>[0.005796413403004408, 0.004677060525864363, 2...</td>\n",
       "      <td>0.063448</td>\n",
       "    </tr>\n",
       "  </tbody>\n",
       "</table>\n",
       "<p>3706 rows × 4 columns</p>\n",
       "</div>"
      ],
      "text/plain": [
       "                                              title  movieId_index  \\\n",
       "0            One Flew Over the Cuckoo's Nest (1975)           7216   \n",
       "1                  James and the Giant Peach (1996)           6695   \n",
       "2                               My Fair Lady (1964)           6942   \n",
       "3                            Erin Brockovich (2000)           9379   \n",
       "4                              Bug's Life, A (1998)           8326   \n",
       "...                                             ...            ...   \n",
       "919876                           Modulations (1998)           8169   \n",
       "940262                        Broken Vessels (1998)           8674   \n",
       "957826                            White Boys (1999)           8816   \n",
       "970914                     One Little Indian (1973)           9578   \n",
       "983062  Five Wives, Three Secretaries and Me (1998)           8880   \n",
       "\n",
       "                                                embedding      bias  \n",
       "0       [0.28399068117141724, 0.27064165472984314, 0.3...  0.296528  \n",
       "1       [0.147650808095932, 0.043052155524492264, 0.05... -0.052868  \n",
       "2       [0.17243516445159912, -0.05406080558896065, 0....  0.093793  \n",
       "3       [0.07425906509160995, -0.08210873603820801, 0....  0.204388  \n",
       "4       [-0.0025251160841435194, -0.27461206912994385,...  0.133541  \n",
       "...                                                   ...       ...  \n",
       "919876  [0.021013814955949783, -0.017801446840167046, ...  0.089735  \n",
       "940262  [-0.008717681281268597, -0.0037067122757434845... -0.060727  \n",
       "957826  [-0.06269466131925583, 0.011752610094845295, 0... -0.133646  \n",
       "970914  [0.023901021108031273, -0.0074755046516656876,...  0.091031  \n",
       "983062  [0.005796413403004408, 0.004677060525864363, 2...  0.063448  \n",
       "\n",
       "[3706 rows x 4 columns]"
      ]
     },
     "execution_count": 21,
     "metadata": {},
     "output_type": "execute_result"
    }
   ],
   "source": [
    "movies[['title','movieId_index','embedding','bias']]"
   ]
  },
  {
   "cell_type": "code",
   "execution_count": 22,
   "metadata": {},
   "outputs": [],
   "source": [
    "movies_subset = movies[movies['genres'].str.contains('Children\\'s|Horror|Documentary')].copy()\n",
    "X = np.stack(movies_subset['embedding'].values)\n",
    "ldr = TSNE(n_components=2, random_state=0)\n",
    "Y = ldr.fit_transform(X)\n",
    "movies_subset['x'] = Y[:, 0]\n",
    "movies_subset['y'] = Y[:, 1]"
   ]
  },
  {
   "cell_type": "code",
   "execution_count": 23,
   "metadata": {},
   "outputs": [
    {
     "data": {
      "image/png": "[encoded data removed]",
      "text/plain": [
       "<Figure size 864x864 with 1 Axes>"
      ]
     },
     "metadata": {
      "needs_background": "light"
     },
     "output_type": "display_data"
    }
   ],
   "source": [
    "def single_genre(g):\n",
    "    for i in ['Children\\'s', 'Horror', 'Documentary']:\n",
    "        if i in g: return i\n",
    "        \n",
    "movies_subset['genres']=movies_subset['genres'].apply(single_genre)\n",
    "plt.figure(figsize=(12, 12))\n",
    "ax = sns.scatterplot(x=\"x\", y=\"y\", hue='genres',data=movies_subset)\n",
    "plt.savefig('movie_emb.png', bbox_inches='tight')"
   ]
  },
  {
   "cell_type": "code",
   "execution_count": 24,
   "metadata": {},
   "outputs": [
    {
     "data": {
      "text/plain": [
       "array(['Star Wars: Episode IV - A New Hope (1977)',\n",
       "       'Star Wars: Episode V - The Empire Strikes Back (1980)',\n",
       "       'Star Wars: Episode VI - Return of the Jedi (1983)',\n",
       "       'Raiders of the Lost Ark (1981)',\n",
       "       'Indiana Jones and the Last Crusade (1989)', 'Ghostbusters (1984)',\n",
       "       'Batman (1989)',\n",
       "       'Star Wars: Episode I - The Phantom Menace (1999)',\n",
       "       'Sting, The (1973)', 'Secret Agent (1936)'], dtype=object)"
      ]
     },
     "execution_count": 24,
     "metadata": {},
     "output_type": "execute_result"
    }
   ],
   "source": [
    "star_wars_5_index=torch.tensor(6297,device=device) \t\n",
    "star_war_embeddings = model.embeddings(star_wars_5_index)\n",
    "cosine_similarities = torch.tensor([F.cosine_similarity(star_war_embeddings,i,dim=0) for i in movie_embeddings])\n",
    "movies.iloc[cosine_similarities.argsort(descending=True).detach().numpy()]['title'].values[:10]"
   ]
  },
  {
   "cell_type": "code",
   "execution_count": 53,
   "metadata": {},
   "outputs": [
    {
     "data": {
      "text/plain": [
       "['Toy Story (1995)',\n",
       " 'Toy Story 2 (1999)',\n",
       " \"Bug's Life, A (1998)\",\n",
       " 'Beauty and the Beast (1991)',\n",
       " 'Aladdin (1992)',\n",
       " 'Little Mermaid, The (1989)',\n",
       " 'Babe (1995)',\n",
       " 'Lion King, The (1994)',\n",
       " 'Tarzan (1999)',\n",
       " 'Back to the Future (1985)']"
      ]
     },
     "execution_count": 53,
     "metadata": {},
     "output_type": "execute_result"
    }
   ],
   "source": [
    "toy_story_index=torch.tensor(6040,device=device)\n",
    "toy_story_embeddings = model.embeddings(toy_story_index)\n",
    "cosine_similarities = torch.tensor([F.cosine_similarity(toy_story_embeddings,i,dim=0) \n",
    "                                    for i in movie_embeddings])\n",
    "[i for i in movies.iloc[cosine_similarities.argsort(descending=True).detach().numpy()]['title'].values[:10]]"
   ]
  },
  {
   "cell_type": "markdown",
   "metadata": {
    "colab_type": "text",
    "id": "EwT_bTzAaFQS"
   },
   "source": [
    "## Recommending"
   ]
  },
  {
   "cell_type": "code",
   "execution_count": 50,
   "metadata": {},
   "outputs": [
    {
     "data": {
      "text/plain": [
       "['Shawshank Redemption, The (1994)',\n",
       " 'Usual Suspects, The (1995)',\n",
       " 'American Beauty (1999)',\n",
       " 'Godfather, The (1972)',\n",
       " 'Life Is Beautiful (La Vita è bella) (1997)',\n",
       " 'Braveheart (1995)',\n",
       " 'Sanjuro (1962)',\n",
       " 'Monty Python and the Holy Grail (1974)',\n",
       " 'Star Wars: Episode IV - A New Hope (1977)',\n",
       " 'Star Wars: Episode V - The Empire Strikes Back (1980)']"
      ]
     },
     "execution_count": 50,
     "metadata": {},
     "output_type": "execute_result"
    }
   ],
   "source": [
    "man_embedding = model.embeddings(torch.tensor(9754,device=device))\n",
    "age18_25_embedding = model.embeddings(torch.tensor(9747,device=device))\n",
    "metadata_embedding = man_embedding+age18_25_embedding\n",
    "rankings = movie_biases.squeeze()+(metadata_embedding*movie_embeddings).sum(1)\n",
    "[i for i in movies.iloc[rankings.argsort(descending=True).cpu()]['title'].values][:10]"
   ]
  },
  {
   "cell_type": "code",
   "execution_count": 52,
   "metadata": {
    "colab": {
     "base_uri": "https://localhost:8080/",
     "height": 364
    },
    "colab_type": "code",
    "id": "9F2k5Z8homRF",
    "outputId": "c215bb9a-d62a-4fbf-a35e-ea748fd767e2"
   },
   "outputs": [
    {
     "data": {
      "text/plain": [
       "['To Kill a Mockingbird (1962)',\n",
       " 'Wrong Trousers, The (1993)',\n",
       " 'African Queen, The (1951)',\n",
       " 'Close Shave, A (1995)',\n",
       " \"Schindler's List (1993)\",\n",
       " 'Man for All Seasons, A (1966)',\n",
       " 'Some Like It Hot (1959)',\n",
       " 'General, The (1927)',\n",
       " 'Sound of Music, The (1965)',\n",
       " 'Wizard of Oz, The (1939)']"
      ]
     },
     "execution_count": 52,
     "metadata": {},
     "output_type": "execute_result"
    }
   ],
   "source": [
    "woman_embedding = model.embeddings(torch.tensor(9753,device=device))\n",
    "age50_56_embedding = model.embeddings(torch.tensor(9751,device=device))\n",
    "metadata_embedding = woman_embedding+age50_56_embedding\n",
    "rankings = movie_biases.squeeze()+(metadata_embedding*movie_embeddings).sum(1)\n",
    "[i for i in movies.iloc[rankings.argsort(descending=True).cpu()]['title'].values][:10]"
   ]
  },
  {
   "cell_type": "markdown",
   "metadata": {},
   "source": [
    "## Elasticsearch\n"
   ]
  },
  {
   "cell_type": "code",
   "execution_count": 32,
   "metadata": {},
   "outputs": [],
   "source": [
    "es = Elasticsearch()"
   ]
  },
  {
   "cell_type": "code",
   "execution_count": 34,
   "metadata": {},
   "outputs": [
    {
     "data": {
      "text/plain": [
       "(3706, [])"
      ]
     },
     "execution_count": 34,
     "metadata": {},
     "output_type": "execute_result"
    }
   ],
   "source": [
    "def generate_movie_docs():\n",
    "    for i, movie in movies.iterrows():\n",
    "        yield {\n",
    "            '_index': 'recsys',\n",
    "            '_id': f'movie_{movie[\"movieId\"]}',\n",
    "            '_source': {'embedding':movie['embedding'],\n",
    "                    'bias':movie['bias'],\n",
    "                    'feature_type':'movie',\n",
    "                    'title':movie['title']\n",
    "                   }\n",
    "        }\n",
    "helpers.bulk(es,generate_movie_docs())"
   ]
  },
  {
   "cell_type": "code",
   "execution_count": 35,
   "metadata": {},
   "outputs": [
    {
     "data": {
      "text/plain": [
       "(6040, [])"
      ]
     },
     "execution_count": 35,
     "metadata": {},
     "output_type": "execute_result"
    }
   ],
   "source": [
    "users = ratings.drop_duplicates('userId_index').copy()\n",
    "users['embedding'] = model.embeddings(torch.tensor(users['userId_index'].values,device=device)).tolist()\n",
    "users['bias'] = model.bias(torch.tensor(users['userId_index'].values,device=device)).detach().numpy()\n",
    "\n",
    "def generate_user_docs():\n",
    "    for i, user in users.iterrows():\n",
    "        yield {\n",
    "            '_index': 'recsys',\n",
    "            '_id': f'user_{user[\"userId\"]}',\n",
    "            '_source': {'embedding':user['embedding'],\n",
    "                    'bias':user['bias'],\n",
    "                    'feature_type':'user',\n",
    "                   }\n",
    "        }\n",
    "helpers.bulk(es,generate_user_docs())"
   ]
  },
  {
   "cell_type": "code",
   "execution_count": 36,
   "metadata": {},
   "outputs": [
    {
     "data": {
      "text/plain": [
       "(7, [])"
      ]
     },
     "execution_count": 36,
     "metadata": {},
     "output_type": "execute_result"
    }
   ],
   "source": [
    "ages = [i+features_offsets['age_index'] for i in range(features_sizes['age_index'])]\n",
    "def generate_age_docs():\n",
    "    for age_index in ages:\n",
    "        yield {\n",
    "            '_index': 'recsys',\n",
    "            '_id': f'age_{age_index}',\n",
    "            '_source': {'embedding':model.embeddings(torch.tensor(age_index,device=device)).tolist(),\n",
    "                    'bias':model.bias(torch.tensor(age_index,device=device)).item(),\n",
    "                    'feature_type':'age',\n",
    "                   }\n",
    "        }\n",
    "helpers.bulk(es,generate_age_docs())"
   ]
  },
  {
   "cell_type": "code",
   "execution_count": 37,
   "metadata": {},
   "outputs": [
    {
     "data": {
      "text/plain": [
       "(2, [])"
      ]
     },
     "execution_count": 37,
     "metadata": {},
     "output_type": "execute_result"
    }
   ],
   "source": [
    "genders = [i+features_offsets['gender_index'] for i in range(features_sizes['gender_index'])]\n",
    "def generate_gender_docs():\n",
    "    for gender_index in genders:\n",
    "        yield {\n",
    "            '_index': 'recsys',\n",
    "            '_id': f'gender_{gender_index}',\n",
    "            '_source': {'embedding':model.embeddings(torch.tensor(gender_index,device=device)).tolist(),\n",
    "                    'bias':model.bias(torch.tensor(gender_index,device=device)).item(),\n",
    "                    'feature_type':'gender',\n",
    "                   }\n",
    "        }\n",
    "helpers.bulk(es,generate_gender_docs())"
   ]
  },
  {
   "cell_type": "code",
   "execution_count": 38,
   "metadata": {},
   "outputs": [
    {
     "data": {
      "text/plain": [
       "(21, [])"
      ]
     },
     "execution_count": 38,
     "metadata": {},
     "output_type": "execute_result"
    }
   ],
   "source": [
    "occupations = [i+features_offsets['occupation_index'] for i in range(features_sizes['occupation_index'])]\n",
    "def generate_occupation_docs():\n",
    "    for occupation_index in occupations:\n",
    "        yield {\n",
    "            '_index': 'recsys',\n",
    "            '_id': f'occupation_{occupation_index}',\n",
    "            '_source': {'embedding':model.embeddings(torch.tensor(occupation_index,device=device)).tolist(),\n",
    "                    'bias':model.bias(torch.tensor(occupation_index,device=device)).item(),\n",
    "                    'feature_type':'occupation',\n",
    "                   }\n",
    "        }\n",
    "helpers.bulk(es,generate_occupation_docs())"
   ]
  },
  {
   "cell_type": "code",
   "execution_count": 39,
   "metadata": {},
   "outputs": [],
   "source": [
    "metadata = es.mget({\"docs\":[\n",
    "    {\n",
    "        \"_index\" : \"recsys\",\n",
    "        \"_id\" : \"age_9747\"},\n",
    "    {\n",
    "        \"_index\" : \"recsys\",\n",
    "        \"_id\" : \"gender_9754\"}]})\n",
    "embeddings = [doc['_source']['embedding'] for doc in metadata['docs']]\n",
    "v_metadata = [sum(pair) for pair in zip(*embeddings)]\n"
   ]
  },
  {
   "cell_type": "code",
   "execution_count": 41,
   "metadata": {},
   "outputs": [
    {
     "data": {
      "text/plain": [
       "['Shawshank Redemption, The (1994)',\n",
       " 'Usual Suspects, The (1995)',\n",
       " 'American Beauty (1999)',\n",
       " 'Godfather, The (1972)',\n",
       " 'Life Is Beautiful (La Vita è bella) (1997)',\n",
       " 'Braveheart (1995)',\n",
       " 'Sanjuro (1962)',\n",
       " 'Monty Python and the Holy Grail (1974)',\n",
       " 'Star Wars: Episode IV - A New Hope (1977)',\n",
       " 'Star Wars: Episode V - The Empire Strikes Back (1980)']"
      ]
     },
     "execution_count": 41,
     "metadata": {},
     "output_type": "execute_result"
    }
   ],
   "source": [
    "search_body = {\n",
    "    \"query\": {\n",
    "    \"script_score\": {\n",
    "      \"query\" : {\n",
    "          \"bool\" : {\n",
    "          \"filter\" : {\n",
    "            \"term\" : {\n",
    "              \"feature_type\" : \"movie\" \n",
    "            }\n",
    "          }\n",
    "        }\n",
    "      },\n",
    "      \"script\": {\n",
    "        \"source\": \"dotProduct(params.query_vector, \\u0027embedding\\u0027) + doc[\\u0027bias\\u0027].value\", \n",
    "        \"params\": {\n",
    "          \"query_vector\": v_metadata\n",
    "        }\n",
    "      }\n",
    "    }\n",
    "  }\n",
    "}\n",
    "[hit['_source']['title'] \n",
    " for hit in es.search(search_body,index='recsys',_source_includes='title')['hits']['hits']]\n"
   ]
  }
 ],
 "metadata": {
  "accelerator": "GPU",
  "colab": {
   "collapsed_sections": [],
   "name": "fm_movies.ipynb",
   "provenance": [],
   "toc_visible": true
  },
  "kernelspec": {
   "display_name": "ai",
   "language": "python",
   "name": "ai"
  },
  "language_info": {
   "codemirror_mode": {
    "name": "ipython",
    "version": 3
   },
   "file_extension": ".py",
   "mimetype": "text/x-python",
   "name": "python",
   "nbconvert_exporter": "python",
   "pygments_lexer": "ipython3",
   "version": "3.6.10"
  }
 },
 "nbformat": 4,
 "nbformat_minor": 1
}
